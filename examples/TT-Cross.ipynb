{
 "cells": [
  {
   "cell_type": "markdown",
   "metadata": {},
   "source": [
    "## Loading black-box functions with TT-Cross\n",
    "\n",
    "TT-Cross, also known as tensor cross-interpolation (TCI), is a method to load black-box functions in tensor trains or MPS. This library implements several variants of TT-Cross, each with its strengths and weaknesses. In this example, we show the usage of the DMRG-based variant `cross_DMRG`, which is specially suitable for MPS with small physical dimension. However, these examples apply analogously to all other variants by just replacing the method.\n",
    "\n",
    "The black-box function given as input corresponds to a `BlackBox` object. There are several subclasses corresponding to different input black-boxes, applicable in different scenarios. In this notebook, we show a brief example for each type."
   ]
  },
  {
   "cell_type": "code",
   "execution_count": 19,
   "metadata": {},
   "outputs": [],
   "source": [
    "import numpy as np\n",
    "import matplotlib.pyplot as plt\n",
    "\n",
    "from seemps.analysis.mesh import Mesh, RegularInterval\n",
    "from seemps.analysis.factories import mps_interval\n",
    "from seemps.analysis.cross import cross_dmrg\n",
    "import seemps.tools\n",
    "\n",
    "seemps.tools.DEBUG = 2"
   ]
  },
  {
   "cell_type": "markdown",
   "metadata": {},
   "source": [
    "### 1. `BlackBoxLoadMPS`\n",
    "\n",
    "This black-box representation allows to load functions in a MPS by imposing a quantization on its degrees of freedom with a given base, or *physical dimension*. This enables to impose different tensor orders, such as *serial (A)* and *interleaved (B)*. In this example we load the function\n",
    "\n",
    "$$\n",
    "f(x, y) = e^{-(x^2 + y^2)}\n",
    "$$\n",
    "\n",
    "on a binary MPS with standard physical dimension 2 and serial order.\n",
    "\n",
    "The function `func` must act on the whole input tensor, following the convention that its first index labels each degree of freedom or dimension."
   ]
  },
  {
   "cell_type": "code",
   "execution_count": 20,
   "metadata": {},
   "outputs": [
    {
     "name": "stdout",
     "output_type": "stream",
     "text": [
      " Cross sweep   1 with error(1000 samples in norm-inf)=0.08093730903765317, maxbond=2, evals(cumulative)=144\n",
      " Cross sweep   1 with error(1000 samples in norm-inf)=1.4290195931743188e-05, maxbond=4, evals(cumulative)=624\n",
      " Cross sweep   2 with error(1000 samples in norm-inf)=4.7628567756419216e-14, maxbond=8, evals(cumulative)=1920\n",
      " State converged within tolerance 1e-12\n"
     ]
    }
   ],
   "source": [
    "from seemps.analysis.cross import BlackBoxLoadMPS\n",
    "\n",
    "func = lambda tensor: np.exp(-np.sum(tensor**2, axis=0))\n",
    "\n",
    "start, stop = -1, 1\n",
    "num_qubits = 10\n",
    "interval = RegularInterval(start, stop, 2**num_qubits)\n",
    "dimension = 2\n",
    "mesh = Mesh([interval] * dimension)\n",
    "\n",
    "black_box = BlackBoxLoadMPS(func, mesh, base=2, mps_order=\"A\")\n",
    "mps = cross_dmrg(black_box).mps"
   ]
  },
  {
   "cell_type": "markdown",
   "metadata": {},
   "source": [
    "### 2. `BlackBoxLoadTT`\n",
    "\n",
    "This black-box representation allows to load functions in a tensor-train with no such quantization, by assigning a full tensor to each function variable. \n",
    "Even though we use it here, `cross_dmrg` is not optimal for this structure and it largely overestimates the bond dimension. Instead, its better to use `cross_maxvol` or `cross_greedy`."
   ]
  },
  {
   "cell_type": "code",
   "execution_count": 21,
   "metadata": {},
   "outputs": [
    {
     "name": "stdout",
     "output_type": "stream",
     "text": [
      " Cross sweep   1 with error(1000 samples in norm-inf)=1.304512053934559e-14, maxbond=993, evals(cumulative)=1000000\n",
      " State converged within tolerance 1e-12\n"
     ]
    }
   ],
   "source": [
    "from seemps.analysis.cross import BlackBoxLoadTT\n",
    "\n",
    "func = lambda tensor: np.exp(-np.sum(tensor**2, axis=0))\n",
    "\n",
    "start, stop = -1, 1\n",
    "num_nodes = 1000\n",
    "interval = RegularInterval(start, stop, num_nodes)\n",
    "dimension = 2\n",
    "mesh = Mesh([interval] * dimension)\n",
    "\n",
    "black_box = BlackBoxLoadTT(func, mesh)\n",
    "mps = cross_dmrg(black_box).mps"
   ]
  },
  {
   "cell_type": "markdown",
   "metadata": {},
   "source": [
    "### 3. `BlackBoxLoadMPO`\n",
    "\n",
    "This black-box representation allows to load a bivariate function in a MPO, by loading its equivalent MPS and unfolding it at the end. In this example, we load in MPO the bivariate function\n",
    "\n",
    "$$\n",
    "f(x, y) = e^{-(x^2 + y^2)}.\n",
    "$$\n",
    "\n",
    "The function `func` must act on two input values labeling the rows and columns of the MPO respectively."
   ]
  },
  {
   "cell_type": "code",
   "execution_count": 18,
   "metadata": {},
   "outputs": [
    {
     "name": "stdout",
     "output_type": "stream",
     "text": [
      " Cross sweep   1 with error(1000 samples in norm-inf)=0.09425112330182073, maxbond=4, evals(cumulative)=528\n",
      " Cross sweep   1 with error(1000 samples in norm-inf)=2.4101306458801375e-05, maxbond=16, evals(cumulative)=6992\n",
      " Cross sweep   2 with error(1000 samples in norm-inf)=2.537969834293108e-13, maxbond=59, evals(cumulative)=71216\n",
      " State converged within tolerance 1e-12\n"
     ]
    }
   ],
   "source": [
    "from seemps.analysis.cross import BlackBoxLoadMPO\n",
    "from seemps.truncate.simplify_mpo import mps_as_mpo\n",
    "\n",
    "func = lambda x, y: np.exp(-(x**2 + y**2))\n",
    "\n",
    "start, stop = -1, 1\n",
    "num_qubits = 10\n",
    "interval = RegularInterval(start, stop, 2**num_qubits)\n",
    "dimension = 2\n",
    "mesh = Mesh([interval] * dimension)\n",
    "\n",
    "black_box = BlackBoxLoadMPO(func, mesh)\n",
    "mps = cross_dmrg(black_box).mps\n",
    "mpo = mps_as_mpo(mps)"
   ]
  },
  {
   "cell_type": "markdown",
   "metadata": {},
   "source": [
    "### 4. `BlackBoxComposeMPS`\n",
    "\n",
    "This black-box representation allows composing scalar functions on several MPS, given by `mps_list`. In this example we compose the function\n",
    "\n",
    "$$\n",
    "f(x,y,z) = x\\cdot \\sin(y z) + y \\cdot \\cos(x z)\n",
    "$$\n",
    "\n",
    "on three initial MPS representing $x$, $y$ and $z$. The function `func` must act on the whole list of MPS."
   ]
  },
  {
   "cell_type": "code",
   "execution_count": 12,
   "metadata": {},
   "outputs": [
    {
     "name": "stdout",
     "output_type": "stream",
     "text": [
      " Cross sweep   1 with error(1000 samples in norm-inf)=0.11293525051035298, maxbond=2, evals(cumulative)=68\n",
      " Cross sweep   1 with error(1000 samples in norm-inf)=1.723676025844334e-05, maxbond=4, evals(cumulative)=300\n",
      " Cross sweep   2 with error(1000 samples in norm-inf)=1.354472090042691e-14, maxbond=8, evals(cumulative)=972\n",
      " State converged within tolerance 1e-12\n"
     ]
    }
   ],
   "source": [
    "from seemps.analysis.cross import BlackBoxComposeMPS\n",
    "\n",
    "func = lambda mps: mps[0] * np.sin(mps[1] * mps[2]) + mps[1] * np.cos(mps[0] * mps[2])\n",
    "\n",
    "start, stop, num_qubits = -1, 1, 10\n",
    "interval = RegularInterval(start, stop, 2**num_qubits)\n",
    "mps_x = mps_interval(interval)\n",
    "\n",
    "black_box = BlackBoxComposeMPS(func, [mps_x, mps_x, mps_x])\n",
    "mps = cross_dmrg(black_box).mps"
   ]
  }
 ],
 "metadata": {
  "kernelspec": {
   "display_name": "seemps",
   "language": "python",
   "name": "python3"
  },
  "language_info": {
   "codemirror_mode": {
    "name": "ipython",
    "version": 3
   },
   "file_extension": ".py",
   "mimetype": "text/x-python",
   "name": "python",
   "nbconvert_exporter": "python",
   "pygments_lexer": "ipython3",
   "version": "3.12.2"
  }
 },
 "nbformat": 4,
 "nbformat_minor": 2
}
