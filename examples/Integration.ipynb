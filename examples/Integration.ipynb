{
 "cells": [
  {
   "cell_type": "markdown",
   "metadata": {},
   "source": [
    "## Integration of functions loaded in MPS"
   ]
  },
  {
   "cell_type": "markdown",
   "metadata": {},
   "source": [
    "This notebook shows how to integrate functions loaded in MPS by contracting them with predefined quadrature MPS. These quadrature MPS can be straightforwardly generalized to multivariate scenarios by means of tensor products in both qubit orders, either serial or interleaved. Moreover, this integration procedure avoids the *curse of dimensionality*, as it has a cost that scales polynomially with the dimension of the function instead than exponentially.\n",
    "\n",
    "The main prerequisite for this *quantum-inspired* integration method is to dispose of a prior multivariate function loaded in MPS. This can be done following several methods, such as MPS Chebyshev expansions (see the `chebyshev_composition.ipynb` example), tensor cross-interpolation (TCI, see the `tt-cross.ipynb` example), multiscale interpolative constructions, etc.\n",
    "\n",
    "For this example, we are going to load a trivially simple multivariate function \n",
    "\n",
    "$f(x_1, \\ldots, x_{10}) = \\prod_{i=1}^{10} x_i^3$.\n",
    "\n",
    "The integral of this function in $\\Omega = [-1, 1] \\times \\ldots \\times [-1, 1]$ is naively zero. Even though it can be analytically constructed, we use tensor cross-interpolation as it generalizes to a wider range of functions. Then, we integrate it following a Clenshaw-Curtis quadrature rule."
   ]
  },
  {
   "cell_type": "code",
   "execution_count": 5,
   "metadata": {},
   "outputs": [
    {
     "name": "stdout",
     "output_type": "stream",
     "text": [
      " Cross sweep   1 with error(1000 samples in norm-inf)=3.2845046914370504, maxbond=2, evals(cumulative)=228\n",
      " Cross sweep   1 with error(1000 samples in norm-inf)=2.842170943040401e-14, maxbond=3, evals(cumulative)=816\n",
      " State converged within tolerance 1e-12\n"
     ]
    }
   ],
   "source": [
    "import numpy as np\n",
    "\n",
    "from seemps.analysis.mesh import ChebyshevInterval, Mesh\n",
    "from seemps.analysis.cross import BlackBoxLoadMPS, cross_dmrg\n",
    "import seemps.tools\n",
    "\n",
    "seemps.tools.DEBUG = 2\n",
    "\n",
    "start, stop = -1, 1\n",
    "num_qubits = 3\n",
    "interval = ChebyshevInterval(\n",
    "    start, stop, 2**num_qubits, endpoints=True\n",
    ")  # Chebyshev extrema\n",
    "\n",
    "dimension = 10\n",
    "mesh = Mesh([interval] * dimension)\n",
    "\n",
    "func = lambda tensor: np.sum(tensor**3, axis=0)  # x^3 * y^3 * ...\n",
    "black_box = BlackBoxLoadMPS(func, mesh)\n",
    "\n",
    "mps_func = cross_dmrg(black_box).mps"
   ]
  },
  {
   "cell_type": "markdown",
   "metadata": {},
   "source": [
    "Next, we construct the quadrature MPS. We can integrate the function directly using the auxiliar routine `integrate_mps`, but in this example we construct the quadrature manually."
   ]
  },
  {
   "cell_type": "code",
   "execution_count": 9,
   "metadata": {},
   "outputs": [],
   "source": [
    "from seemps.analysis.integration import mps_clenshaw_curtis\n",
    "from seemps.analysis.factories import mps_tensor_product\n",
    "\n",
    "mps_quad_1d = mps_clenshaw_curtis(start, stop, num_qubits)\n",
    "mps_quad_10d = mps_tensor_product([mps_quad_1d] * dimension)"
   ]
  },
  {
   "cell_type": "markdown",
   "metadata": {},
   "source": [
    "Finally, integrate the MPS by taking the scalar product `scprod` of the function MPS with the quadrature MPS."
   ]
  },
  {
   "cell_type": "code",
   "execution_count": 10,
   "metadata": {},
   "outputs": [
    {
     "name": "stdout",
     "output_type": "stream",
     "text": [
      "Integration error:  4.195754854663392e-12\n"
     ]
    }
   ],
   "source": [
    "from seemps.state import scprod\n",
    "\n",
    "integral_exact = 0\n",
    "integral_mps = scprod(mps_func, mps_quad_10d)\n",
    "\n",
    "print(\"Integration error: \", np.max(np.abs(integral_exact - integral_mps)))"
   ]
  }
 ],
 "metadata": {
  "kernelspec": {
   "display_name": "seemps",
   "language": "python",
   "name": "python3"
  },
  "language_info": {
   "codemirror_mode": {
    "name": "ipython",
    "version": 3
   },
   "file_extension": ".py",
   "mimetype": "text/x-python",
   "name": "python",
   "nbconvert_exporter": "python",
   "pygments_lexer": "ipython3",
   "version": "3.12.2"
  }
 },
 "nbformat": 4,
 "nbformat_minor": 2
}
