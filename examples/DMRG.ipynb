{
 "cells": [
  {
   "cell_type": "markdown",
   "metadata": {},
   "source": [
    "# DMRG"
   ]
  },
  {
   "cell_type": "markdown",
   "metadata": {},
   "source": [
    "In this notebook we will study the ground state of a spin Hamiltonian\n",
    "$$H = \\sum_{i=1}^N \\sigma^z_i \\sigma^z_i + h \\sum_i \\sigma^x_i$$\n",
    "using matrix product states and the density matrix renormalization group algorithm (DMRG in short)."
   ]
  },
  {
   "cell_type": "markdown",
   "metadata": {},
   "source": [
    "First, we assume the SeeMPS library has been installed in the environment, and import a set of tools."
   ]
  },
  {
   "cell_type": "code",
   "execution_count": 1,
   "metadata": {},
   "outputs": [],
   "source": [
    "from seemps.hamiltonians import ConstantTIHamiltonian\n",
    "from seemps.optimization import dmrg\n",
    "from seemps.state import MPS, product_state\n",
    "import numpy as np"
   ]
  },
  {
   "cell_type": "markdown",
   "metadata": {},
   "source": [
    "Next, we define our operators. The `ConstantTIHamiltonian` class is a tool to construct matrix product operators for a given problem. It allows you to define the interaction between nearest-neighbor sites and some local terms, and move ahead."
   ]
  },
  {
   "cell_type": "code",
   "execution_count": 2,
   "metadata": {},
   "outputs": [],
   "source": [
    "N = 10\n",
    "h = 0.2\n",
    "sx = np.array([[0, 1], [1, 0]])\n",
    "sz = np.array([[1, 0], [0, -1]])\n",
    "H = ConstantTIHamiltonian(size=N, interaction=np.kron(sz, sz), local_term=h * sx)"
   ]
  },
  {
   "cell_type": "markdown",
   "metadata": {},
   "source": [
    "We use the DMRG algorithm with a suitable guess to find out the ground state energy"
   ]
  },
  {
   "cell_type": "code",
   "execution_count": 3,
   "metadata": {},
   "outputs": [
    {
     "name": "stdout",
     "output_type": "stream",
     "text": [
      "DMRG energy = -9.100252539845801\n"
     ]
    }
   ],
   "source": [
    "result = dmrg(H, guess=product_state(np.ones(2) / np.sqrt(2), N))\n",
    "print(f\"DMRG energy = {result.energy}\")"
   ]
  },
  {
   "cell_type": "markdown",
   "metadata": {},
   "source": [
    "We can compare with the exact diagonalization, because the problem is small"
   ]
  },
  {
   "cell_type": "code",
   "execution_count": 4,
   "metadata": {},
   "outputs": [
    {
     "name": "stdout",
     "output_type": "stream",
     "text": [
      "Exact energy = -9.100252539845801\n"
     ]
    }
   ],
   "source": [
    "from scipy.sparse.linalg import eigsh\n",
    "\n",
    "E, _ = eigsh(H.to_matrix(), k=1, which=\"SA\")\n",
    "print(f\"Exact energy = {result.energy}\")"
   ]
  },
  {
   "cell_type": "markdown",
   "metadata": {},
   "source": [
    "With this, we can do a slightly more sophisticated study of the quantum phase transition."
   ]
  },
  {
   "cell_type": "code",
   "execution_count": 6,
   "metadata": {},
   "outputs": [
    {
     "name": "stdout",
     "output_type": "stream",
     "text": [
      "Energy = -14.000000, time = 0.046875s, errors: E = 3.552714e-15, Sz = 0.000000e+00, Sx = 3.346449e-16\n",
      "Energy = -14.037523, time = 0.359375s, errors: E = 2.309264e-14, Sz = -1.314504e-13, Sx = 2.842171e-14\n",
      "Energy = -14.150379, time = 0.234375s, errors: E = 3.019807e-14, Sz = 3.730349e-14, Sx = 2.486900e-14\n",
      "Energy = -14.339443, time = 0.218750s, errors: E = 4.618528e-14, Sz = 2.895462e-13, Sx = 1.326939e-12\n",
      "Energy = -14.606256, time = 0.296875s, errors: E = 1.776357e-15, Sz = 7.283063e-14, Sx = 2.211564e-13\n",
      "Energy = -14.953166, time = 0.343750s, errors: E = 3.730349e-14, Sz = 6.643575e-13, Sx = 1.251443e-12\n",
      "Energy = -15.383579, time = 0.359375s, errors: E = 2.131628e-14, Sz = 2.151701e-11, Sx = 3.593126e-11\n",
      "Energy = -15.902429, time = 0.343750s, errors: E = 7.460699e-14, Sz = 9.517009e-11, Sx = 1.360458e-10\n",
      "Energy = -16.517102, time = 0.421875s, errors: E = 1.065814e-14, Sz = 3.179679e-13, Sx = 4.209966e-13\n",
      "Energy = -17.238942, time = 0.453125s, errors: E = 2.486900e-14, Sz = 2.629008e-13, Sx = 3.117506e-13\n",
      "Energy = -18.081137, time = 0.468750s, errors: E = 1.065814e-14, Sz = 2.664535e-14, Sx = 7.105427e-15\n",
      "Energy = -19.041415, time = 0.453125s, errors: E = 4.618528e-14, Sz = 9.769963e-15, Sx = 2.664535e-14\n",
      "Energy = -20.094135, time = 0.390625s, errors: E = 4.263256e-14, Sz = -3.019807e-14, Sx = -6.572520e-14\n",
      "Energy = -21.212332, time = 0.359375s, errors: E = 6.039613e-14, Sz = -4.085621e-14, Sx = -1.278977e-13\n",
      "Energy = -22.377822, time = 0.328125s, errors: E = 9.237056e-14, Sz = 1.601386e-11, Sx = 1.151257e-11\n",
      "Energy = -23.578893, time = 0.312500s, errors: E = 3.552714e-14, Sz = 2.798650e-12, Sx = 1.872280e-12\n",
      "Energy = -24.807622, time = 0.343750s, errors: E = 9.947598e-14, Sz = -8.544276e-13, Sx = -4.014566e-13\n",
      "Energy = -26.058390, time = 0.343750s, errors: E = 1.030287e-13, Sz = -1.087130e-12, Sx = -6.004086e-13\n",
      "Energy = -27.327065, time = 0.328125s, errors: E = 3.552714e-14, Sz = -7.291945e-13, Sx = -3.375078e-13\n",
      "Energy = -28.610518, time = 0.281250s, errors: E = 4.618528e-14, Sz = -4.494183e-13, Sx = -1.278977e-13\n",
      "Energy = -29.906332, time = 0.343750s, errors: E = 3.197442e-14, Sz = -2.828848e-13, Sx = -1.811884e-13\n"
     ]
    },
    {
     "data": {
      "image/png": "[encoded data removed]",
      "text/plain": [
       "<Figure size 800x400 with 2 Axes>"
      ]
     },
     "metadata": {},
     "output_type": "display_data"
    }
   ],
   "source": [
    "import matplotlib.pyplot as plt\n",
    "from time import process_time\n",
    "\n",
    "\n",
    "\n",
    "def experiment_00(N: int = 30):\n",
    "    \"\"\"Explore the quantum phase transition as a function of the transverse\n",
    "    magnetic field $h$. Plots the magnetizations of the ground state, computed\n",
    "    with a small symmetry breaking term.\"\"\"\n",
    "    h = np.linspace(0, 2, 21)\n",
    "    epsilon = 0\n",
    "    sx = np.array([[0, 1], [1, 0]])\n",
    "    sz = np.array([[1, 0], [0, -1]])\n",
    "    sz_values = []\n",
    "    sx_values = []\n",
    "    extras = \"\"\n",
    "\n",
    "    ZZ = ConstantTIHamiltonian(size=N, interaction=np.kron(sz, sz))\n",
    "    X = ConstantTIHamiltonian(size=N, local_term=sx)\n",
    "    for hi in h:\n",
    "        H = ConstantTIHamiltonian(\n",
    "            size=N, interaction=np.kron(sz, sz), local_term=-hi * sx + epsilon * sz\n",
    "        )\n",
    "        time = process_time()\n",
    "        result = dmrg(H, guess=product_state(np.ones(2) / np.sqrt(2), N), maxiter=100)\n",
    "        time = process_time() - time\n",
    "        sz_values.append(ZZ.to_mpo().expectation(result.state))\n",
    "        sx_values.append(X.to_mpo().expectation(result.state))\n",
    "\n",
    "        if N <= 20:\n",
    "            E, psi0 = eigsh(H.to_matrix(), v0=result.state.to_vector(), k=1, which=\"SA\")\n",
    "            E = E[0]\n",
    "            psi0 = psi0[:, 0]\n",
    "            sz_exact = np.vdot(psi0, ZZ.to_matrix() @ psi0)\n",
    "            sx_exact = np.vdot(psi0, X.to_matrix() @ psi0)\n",
    "            extras = (\n",
    "                f\", errors: E = {abs(E - result.energy):6e}, \"\n",
    "                f\"Sz = {sz_exact - sz_values[-1]:6e}, \"\n",
    "                f\"Sx = {sx_exact - sx_values[-1]:6e}\"\n",
    "            )\n",
    "        print(f\"Energy = {result.energy:+6f}, time = {time:5f}s\" + extras)\n",
    "\n",
    "    fig, (ax1, ax2) = plt.subplots(ncols=2, figsize=(8, 4))\n",
    "    ax1.plot(h, sz_values)\n",
    "    ax1.set_xlabel(r\"$h$\")\n",
    "    ax1.set_ylabel(r\"$S_z$\")\n",
    "    ax2.plot(h, sx_values)\n",
    "    ax2.set_xlabel(r\"$h$\")\n",
    "    ax2.set_ylabel(r\"$S_x$\")\n",
    "    fig.tight_layout()\n",
    "\n",
    "\n",
    "\n",
    "experiment_00(N=15)"
   ]
  },
  {
   "cell_type": "code",
   "execution_count": null,
   "metadata": {},
   "outputs": [],
   "source": [
    "experiment_00(30)"
   ]
  }
 ],
 "metadata": {
  "kernelspec": {
   "display_name": "quantum",
   "language": "python",
   "name": "python3"
  },
  "language_info": {
   "codemirror_mode": {
    "name": "ipython",
    "version": 3
   },
   "file_extension": ".py",
   "mimetype": "text/x-python",
   "name": "python",
   "nbconvert_exporter": "python",
   "pygments_lexer": "ipython3",
   "version": "3.11.6"
  }
 },
 "nbformat": 4,
 "nbformat_minor": 2
}
