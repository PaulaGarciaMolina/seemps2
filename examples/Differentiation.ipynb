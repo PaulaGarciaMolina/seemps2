{
 "cells": [
  {
   "cell_type": "markdown",
   "metadata": {},
   "source": [
    "# Function differentiation\n",
    "\n",
    "This notebook shows how to differentiate functions represented as MPS using the SeeMPS library. We focus on the finite difference method, since the QFT is not yet optimally implemented to efficiently approximate derivatives. More information about these methods can be found in https://arxiv.org/abs/2303.09430."
   ]
  },
  {
   "cell_type": "markdown",
   "metadata": {},
   "source": [
    "First, let us import the necessary set of tools."
   ]
  },
  {
   "cell_type": "code",
   "execution_count": 1,
   "metadata": {},
   "outputs": [],
   "source": [
    "import numpy as np\n",
    "import matplotlib.pyplot as plt\n",
    "from seemps.state import MPS\n",
    "from seemps.analysis.finite_differences import smooth_finite_differences_mpo"
   ]
  },
  {
   "cell_type": "markdown",
   "metadata": {},
   "source": [
    "The Gaussian function\n",
    "\\begin{equation}\n",
    "    f(x) = \\frac{1}{\\mathcal{N}}e^{-x^2/2},\n",
    "\\end{equation}\n",
    "where $\\mathcal{N}$ is normalization constant, acts as benchmark for the differentiation techniques."
   ]
  },
  {
   "cell_type": "markdown",
   "metadata": {},
   "source": [
    "Let us define the functions to compute the error."
   ]
  },
  {
   "cell_type": "code",
   "execution_count": 2,
   "metadata": {},
   "outputs": [],
   "source": [
    "def remove_phase(v):\n",
    "    \"\"\"\n",
    "    Removes the phase from a complex vector `v` by normalizing it with the phase \n",
    "    of its maximum magnitude element.\n",
    "    \n",
    "    Parameters\n",
    "    ----------\n",
    "    v : numpy.ndarray\n",
    "        A complex vector or array-like object.\n",
    "\n",
    "    Returns\n",
    "    -------\n",
    "    numpy.ndarray\n",
    "        A complex vector of the same shape as `v` with its phase removed.\n",
    "    \n",
    "    Notes\n",
    "    -----\n",
    "    The phase of the vector is adjusted by multiplying it by the conjugate of \n",
    "    the element with the maximum magnitude, normalized by the absolute value of \n",
    "    that element. This operation effectively rotates the vector to align its \n",
    "    largest element with the positive real axis.\n",
    "    \"\"\"\n",
    "    shape = v.shape\n",
    "    v = v.flatten()\n",
    "    k = np.argmax(np.abs(v))\n",
    "    return (v * np.abs(v[k]) / v[k]).reshape(shape)\n",
    "\n",
    "def norm2_difference(a, b):\n",
    "    \"\"\"\n",
    "    Calculates the norm-2 difference between two vectors or MPS objects after \n",
    "    removing their phases and normalizing them.\n",
    "\n",
    "    Parameters\n",
    "    ----------\n",
    "    a : numpy.ndarray or MPS\n",
    "        The first vector or MPS object.\n",
    "    b : numpy.ndarray or MPS\n",
    "        The second vector or MPS object.\n",
    "\n",
    "    Returns\n",
    "    -------\n",
    "    float\n",
    "        The norm-2 (Euclidean) difference between the two vectors after phase \n",
    "        removal and normalization.\n",
    "\n",
    "    Notes\n",
    "    -----\n",
    "    If `a` or `b` are instances of the `MPS` class, they are first converted to \n",
    "    vector form using the `to_vector()` method. The vectors are then phase-aligned \n",
    "    using the `remove_phase` function and normalized to unit length. The difference \n",
    "    is calculated using the Euclidean norm of the difference vector.\n",
    "    \"\"\"\n",
    "    if isinstance(a, MPS):\n",
    "        a = a.to_vector()\n",
    "    if isinstance(b, MPS):\n",
    "        b = b.to_vector()\n",
    "    a = remove_phase(a)\n",
    "    b = remove_phase(b)\n",
    "    a /= np.linalg.norm(a)\n",
    "    b /= np.linalg.norm(b)\n",
    "    return np.linalg.norm(a - b)"
   ]
  },
  {
   "cell_type": "markdown",
   "metadata": {},
   "source": [
    "Let us study the error scaling with the number of qubits $n$, which is equivalent to studying how it varies with $\\Delta x$. The finite difference function has a default minimum value of $\\Delta x$ to avoid round-off error. This value can be modified according to the problem."
   ]
  },
  {
   "cell_type": "code",
   "execution_count": 3,
   "metadata": {},
   "outputs": [],
   "source": [
    "a, b = -10, 10\n",
    "n_qubits = range(6,23)\n",
    "f = lambda x: np.exp(- x ** 2)\n",
    "df = lambda x: - 2 * x * f(x)\n",
    "errors = np.empty(shape=(len(n_qubits)))\n",
    "\n",
    "for i, n in enumerate(n_qubits):\n",
    "    x, dx = np.linspace(a, b, num=2 ** n, endpoint=False, retstep=True)\n",
    "    f_mps = MPS.from_vector(f(x), [2]*n, normalize=False)\n",
    "    K = smooth_finite_differences_mpo(n, order=1, filter=9, dx=dx, periodic=True, tol=1e-3)\n",
    "    errors[i] = norm2_difference((K @ f_mps), df(x))"
   ]
  },
  {
   "cell_type": "code",
   "execution_count": 4,
   "metadata": {},
   "outputs": [
    {
     "data": {
      "image/png": "[encoded data removed]",
      "text/plain": [
       "<Figure size 640x480 with 1 Axes>"
      ]
     },
     "metadata": {},
     "output_type": "display_data"
    }
   ],
   "source": [
    "fig, ax = plt.subplots()\n",
    "ax.set_xlabel('n')\n",
    "ax.set_ylabel('Error')\n",
    "ax.set_xticks(n_qubits[::2], n_qubits[::2])\n",
    "ax.plot(n_qubits, errors, linestyle='dotted')\n",
    "ax.set_yscale('log')\n",
    "plt.tight_layout()"
   ]
  }
 ],
 "metadata": {
  "kernelspec": {
   "display_name": "Python 3",
   "language": "python",
   "name": "python3"
  },
  "language_info": {
   "codemirror_mode": {
    "name": "ipython",
    "version": 3
   },
   "file_extension": ".py",
   "mimetype": "text/x-python",
   "name": "python",
   "nbconvert_exporter": "python",
   "pygments_lexer": "ipython3",
   "version": "3.11.9"
  }
 },
 "nbformat": 4,
 "nbformat_minor": 2
}
