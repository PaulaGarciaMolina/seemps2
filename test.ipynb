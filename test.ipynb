{
 "cells": [
  {
   "cell_type": "code",
   "execution_count": 8,
   "metadata": {},
   "outputs": [],
   "source": [
    "import numpy as np\n",
    "from seemps.analysis.interpolation import *\n",
    "from seemps.analysis.space import Space\n",
    "from seemps.analysis.finite_differences import *\n",
    "from seemps.state import MPS\n",
    "from seemps.state.core import DEFAULT_STRATEGY\n",
    "from tests.tools import *\n",
    "from tests.tools_interpolation import *\n",
    "\n",
    "\n",
    "class TestInterpolation(TestCase):\n",
    "    strategy = DEFAULT_STRATEGY.replace(simplify=2)\n",
    "\n",
    "    def test_fourier_interpolation_1D(self):\n",
    "        for n in range(3, 8):\n",
    "            qubits_per_dimension = [n]\n",
    "            dims = [2**n for n in qubits_per_dimension]\n",
    "            L = 10\n",
    "            space = Space(qubits_per_dimension, L=[[-L / 2, L / 2]])\n",
    "            r_N = get_position_regular_grid(dims, space.a, space.dx)\n",
    "            sol_N = gaussian(r_N)\n",
    "            sol_N_mps = MPS.from_vector(\n",
    "                sol_N, [2] * sum(qubits_per_dimension), normalize=False\n",
    "            )\n",
    "            m = n + 2\n",
    "            M = 2**m\n",
    "            sol_int = fourier_interpolation_vector_1D(sol_N, M)\n",
    "            sol_int /= np.linalg.norm(sol_int)\n",
    "            sol_int_mps, _ = fourier_interpolation_1D(\n",
    "                sol_N_mps, space, n, m, dim=0, strategy=self.strategy\n",
    "            )\n",
    "            self.assertSimilar(sol_int, sol_int_mps)\n",
    "\n",
    "    def test_fourier_interpolation(self):\n",
    "        for n in range(3, 8):\n",
    "            qubits_per_dimension = [n, n]\n",
    "            dims = [2**n for n in qubits_per_dimension]\n",
    "            L = 10\n",
    "            space = Space(qubits_per_dimension, L=[[-L / 2, L / 2], [-L / 2, L / 2]])\n",
    "            r_N = get_position_regular_grid(dims, space.a, space.dx)\n",
    "            sol_N = gaussian(r_N)\n",
    "            sol_N_mps = MPS.from_vector(\n",
    "                sol_N, [2] * sum(qubits_per_dimension), normalize=False\n",
    "            )\n",
    "            m = n + 2\n",
    "            qubits_per_dimension_M = [m, m]\n",
    "            dims_M = [2**m for m in qubits_per_dimension_M]\n",
    "            sol_int = fourier_interpolation_vector(sol_N, dims_M)\n",
    "            sol_int /= np.linalg.norm(sol_int)\n",
    "            sol_int_mps = fourier_interpolation(\n",
    "                sol_N_mps,\n",
    "                space,\n",
    "                qubits_per_dimension,\n",
    "                qubits_per_dimension_M,\n",
    "                strategy=self.strategy,\n",
    "            )\n",
    "            self.assertSimilar(sol_int.flatten(), sol_int_mps)\n",
    "\n",
    "    def test_finite_differences_interpolation_1D(self):\n",
    "        for n in range(3, 8):\n",
    "            qubits_per_dimension = [n]\n",
    "            dims = [2**n for n in qubits_per_dimension]\n",
    "            L = 10\n",
    "            space = Space(qubits_per_dimension, L=[[-L / 2, L / 2]])\n",
    "            r_N = get_position_regular_grid(dims, space.a, space.dx)\n",
    "            sol_N = gaussian(r_N)\n",
    "            sol_N_mps = MPS.from_vector(\n",
    "                sol_N, [2] * sum(qubits_per_dimension), normalize=False\n",
    "            )\n",
    "            sol_int = interpolate_first_axis(sol_N.reshape(sol_N.shape[0], 1))\n",
    "            sol_int /= np.linalg.norm(sol_int)\n",
    "            sol_int_mps, _ = finite_differences_interpolation_1D(\n",
    "                sol_N_mps, space, strategy=self.strategy\n",
    "            )\n",
    "            sol_int_mps = sol_int_mps.to_vector()\n",
    "            sol_int_mps /= np.linalg.norm(sol_int_mps)\n",
    "            self.assertSimilar(sol_int.flatten(), sol_int_mps)\n",
    "\n",
    "    def test_finite_differences_interpolation(self):\n",
    "        for n in range(3, 8):\n",
    "            qubits_per_dimension = [n, n]\n",
    "            dims = [2**n for n in qubits_per_dimension]\n",
    "            L = 10\n",
    "            space = Space(qubits_per_dimension, L=[[-L / 2, L / 2], [-L / 2, L / 2]])\n",
    "            r_N = get_position_regular_grid(dims, space.a, space.dx)\n",
    "            sol_N = gaussian(r_N)\n",
    "            sol_N_mps = MPS.from_vector(\n",
    "                sol_N, [2] * sum(qubits_per_dimension), normalize=False\n",
    "            )\n",
    "            sol_int = finite_differences_interpolation_vector_2D(sol_N)\n",
    "            sol_int /= np.linalg.norm(sol_int)\n",
    "            sol_int_mps = finite_differences_interpolation(\n",
    "                sol_N_mps, space, strategy=self.strategy\n",
    "            )\n",
    "            sol_int_mps = sol_int_mps.to_vector()\n",
    "            sol_int_mps /= np.linalg.norm(sol_int_mps)\n",
    "            self.assertSimilar(sol_int.flatten(), sol_int_mps)\n"
   ]
  },
  {
   "cell_type": "code",
   "execution_count": 9,
   "metadata": {},
   "outputs": [
    {
     "name": "stderr",
     "output_type": "stream",
     "text": [
      "test_finite_differences_interpolation (__main__.TestInterpolation.test_finite_differences_interpolation) ... ok\n",
      "test_finite_differences_interpolation_1D (__main__.TestInterpolation.test_finite_differences_interpolation_1D) ... ok\n",
      "test_fourier_interpolation (__main__.TestInterpolation.test_fourier_interpolation) ... ok\n",
      "test_fourier_interpolation_1D (__main__.TestInterpolation.test_fourier_interpolation_1D) ... ok\n",
      "\n",
      "----------------------------------------------------------------------\n",
      "Ran 4 tests in 0.954s\n",
      "\n",
      "OK\n"
     ]
    }
   ],
   "source": [
    "suite1 = unittest.TestLoader().loadTestsFromNames(['__main__.TestInterpolation'])\n",
    "unittest.TextTestRunner(verbosity=2).run(suite1);"
   ]
  },
  {
   "cell_type": "code",
   "execution_count": 7,
   "metadata": {},
   "outputs": [
    {
     "data": {
      "text/plain": [
       "False"
      ]
     },
     "execution_count": 7,
     "metadata": {},
     "output_type": "execute_result"
    },
    {
     "data": {
      "image/png": "[encoded data removed]",
      "text/plain": [
       "<Figure size 640x480 with 1 Axes>"
      ]
     },
     "metadata": {},
     "output_type": "display_data"
    }
   ],
   "source": [
    "import matplotlib.pyplot as plt\n",
    "n = 3\n",
    "qubits_per_dimension = [n]\n",
    "dims = [2**n for n in qubits_per_dimension]\n",
    "L = 10\n",
    "space = Space(qubits_per_dimension, L=[[-L / 2, L / 2]])\n",
    "r_N = get_position_regular_grid(dims, space.a, space.dx)\n",
    "sol_N = gaussian(r_N)\n",
    "sol_N_mps = MPS.from_vector(\n",
    "    sol_N, [2] * sum(qubits_per_dimension), normalize=False\n",
    ")\n",
    "sol_int = interpolate_first_axis(sol_N.reshape(sol_N.shape[0], 1))\n",
    "sol_int /= np.linalg.norm(sol_int)\n",
    "sol_int_mps, _ = finite_differences_interpolation_1D(\n",
    "    sol_N_mps, space, strategy=DEFAULT_STRATEGY.replace(simplify=2)\n",
    ")\n",
    "plt.plot(sol_int.flatten())\n",
    "plt.plot(sol_int_mps.to_vector())\n",
    "\n",
    "np.allclose(sol_int.flatten(), sol_int_mps.to_vector())"
   ]
  },
  {
   "cell_type": "code",
   "execution_count": 46,
   "metadata": {},
   "outputs": [],
   "source": [
    "import numpy as np\n",
    "from seemps.analysis.finite_differences import *\n",
    "from seemps.analysis.space import Space\n",
    "from seemps.state import MPS\n",
    "from seemps.state.core import DEFAULT_STRATEGY, NO_TRUNCATION\n",
    "\n",
    "from tests.tools import *\n",
    "\n",
    "\n",
    "def gaussian(x):\n",
    "    f = np.exp(-(x**2))\n",
    "    return f / np.linalg.norm(f)\n",
    "\n",
    "\n",
    "def S_plus_v(n, closed=True):\n",
    "    S = np.diag(np.ones(2**n - 1), +1)\n",
    "    if closed:\n",
    "        S[-1, 0] = 1\n",
    "    return S\n",
    "\n",
    "\n",
    "def S_minus_v(n, closed=True):\n",
    "    S = np.diag(np.ones(2**n - 1), -1)\n",
    "    if closed:\n",
    "        S[0, -1] = 1\n",
    "    return S\n",
    "\n",
    "\n",
    "def finite_differences_v(n, Δx, closed=True):\n",
    "    return (1 / Δx**2) * (\n",
    "        S_plus_v(n, closed=closed) + S_minus_v(n, closed=closed) - 2 * np.eye(2**n)\n",
    "    )\n",
    "\n",
    "\n",
    "class TestFiniteDifferences(TestCase):\n",
    "    def test_finite_differences(self):\n",
    "        for n in range(2, 10):\n",
    "            qubits_per_dimension = [n]\n",
    "            dims = [2**n for n in qubits_per_dimension]\n",
    "            L = 10\n",
    "            space = Space(qubits_per_dimension, L=[[-L / 2, L / 2]])\n",
    "            x = space.x[0]\n",
    "            Δx = space.dx[0]\n",
    "            v = gaussian(x)\n",
    "            fd_sol = finite_differences_v(n, Δx, closed=True) @ v\n",
    "            ψ = MPS.from_vector(v, [2] * n, normalize=False, strategy=NO_TRUNCATION)\n",
    "            fd_mps_sol = (\n",
    "                finite_differences_mpo(n, Δx, closed=True, strategy=NO_TRUNCATION) @ ψ\n",
    "            )\n",
    "            self.assertSimilar(fd_sol, fd_mps_sol)"
   ]
  },
  {
   "cell_type": "code",
   "execution_count": 47,
   "metadata": {},
   "outputs": [
    {
     "name": "stderr",
     "output_type": "stream",
     "text": [
      "test_finite_differences (__main__.TestFiniteDifferences.test_finite_differences) ... ok\n",
      "\n",
      "----------------------------------------------------------------------\n",
      "Ran 1 test in 0.013s\n",
      "\n",
      "OK\n"
     ]
    }
   ],
   "source": [
    "suite1 = unittest.TestLoader().loadTestsFromNames(['__main__.TestFiniteDifferences'])\n",
    "unittest.TextTestRunner(verbosity=2).run(suite1);"
   ]
  },
  {
   "cell_type": "code",
   "execution_count": 40,
   "metadata": {},
   "outputs": [],
   "source": [
    "mpoA = MPO([σx.reshape(1, 2, 2, 1)] * 10)\n",
    "mpoB = MPO([σz.reshape(1, 2, 2, 1)] * 10)\n",
    "mposum = mpoA + mpoB\n",
    "state = random_uniform_mps(2, mpoA.size, D=10)\n",
    "r1 = mposum.apply(state + state)\n",
    "r2 = simplify(mpoA.apply(2*state)+mpoB.apply(2*state), strategy=DEFAULT_STRATEGY.replace(simplify=Simplification.VARIATIONAL))\n",
    "r3 = mposum @ (state + state)"
   ]
  },
  {
   "cell_type": "code",
   "execution_count": 41,
   "metadata": {},
   "outputs": [
    {
     "name": "stdout",
     "output_type": "stream",
     "text": [
      "[-6056.91128233  4533.28055751   -79.02661144 ...    79.02661144\n",
      " -4533.28055751 -6056.91128233]\n",
      "[-6056.91128233  4533.28055751   -79.02661144 ...    79.02661144\n",
      " -4533.28055751 -6056.91128233]\n",
      "[-6056.91128233  4533.28055751   -79.02661144 ...    79.02661144\n",
      " -4533.28055751 -6056.91128233]\n"
     ]
    }
   ],
   "source": [
    "print(r1.to_vector())\n",
    "print(r2.to_vector())\n",
    "print(r3.to_vector())"
   ]
  },
  {
   "cell_type": "code",
   "execution_count": null,
   "metadata": {},
   "outputs": [],
   "source": []
  }
 ],
 "metadata": {
  "kernelspec": {
   "display_name": "seemps_in_place",
   "language": "python",
   "name": "python3"
  },
  "language_info": {
   "codemirror_mode": {
    "name": "ipython",
    "version": 3
   },
   "file_extension": ".py",
   "mimetype": "text/x-python",
   "name": "python",
   "nbconvert_exporter": "python",
   "pygments_lexer": "ipython3",
   "version": "3.11.5"
  }
 },
 "nbformat": 4,
 "nbformat_minor": 2
}
